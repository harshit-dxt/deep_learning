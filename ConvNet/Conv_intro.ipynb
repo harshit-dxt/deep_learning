{
 "cells": [
  {
   "cell_type": "markdown",
   "metadata": {},
   "source": [
    "# Convolutional Neural Networks"
   ]
  },
  {
   "cell_type": "markdown",
   "metadata": {},
   "source": [
    "## Use cases\n",
    "1. <b>Image Classification</b> <br>\n",
    "Every image has a major object which occupies a large portion of the image. An image is classified into one of the classes based on the identity of its main object, e.g., dog, airplane, bird, etc. <br><br>\n",
    "2. <b>Localisation</b> <br>\n",
    "Identifying the location of one or more objects in an image and drawing abounding box around their extent.<br><br>\n",
    "3. <b>Object Detection</b> <br>\n",
    "<b>Localisation + Classification</b>. Localising and classifying one or more objects in the image.<br><br>\n",
    "4. <b>Image Semantic Segmentation</b> <br>\n",
    "Label pixels of an image with a corresponding class of what is being represented.\n",
    "\n",
    "\n",
    "### Example Image to make it clear.\n",
    "![Example image](https://cdn-images-1.medium.com/max/1000/1*nR5QCdmqUnvU2JFBu2Xa-Q.png)"
   ]
  },
  {
   "cell_type": "markdown",
   "metadata": {},
   "source": [
    "## Mathematical Perspective to CNN"
   ]
  },
  {
   "cell_type": "markdown",
   "metadata": {},
   "source": [
    "### Preliminaries\n",
    "#### Tensor/Vectorization\n",
    "* Vector representation: $ \\chi \\hspace{0.2cm} \\epsilon \\hspace{0.2cm} R^{D} $\n",
    "<blockquote>Vector with D elements.</blockquote>\n",
    "* Matrix representation: $ X \\hspace{0.2cm} \\epsilon \\hspace{0.2cm} R^{H \\times W} $\n",
    "<blockquote>\n",
    "    Matrix with H rows and W columns. <br>\n",
    "    Vector $ \\chi $ is a matrix with D rows and 1 column.\n",
    "</blockquote>\n",
    "* Tensor representation: $ X \\hspace{0.2cm} \\epsilon \\hspace{0.2cm} R^{H \\times W \\times D} $\n",
    "<blockquote>\n",
    "    Higher order matrices are known as <b>tensors</b>. <br>\n",
    "    Tensor $X$ was an order 3 tensor. <br>\n",
    "    Number_of_elements($X$) = HWD. <br>\n",
    "    Indexing of an element in the tensor above can be done by a triplet $(i, j, d)$. <br>\n",
    "    $ 0 \\leq i < H$, $ 0 \\leq j < W$, $ 0 \\leq d < D$\n",
    "</blockquote>\n",
    "<blockquote>\n",
    "    Another way to view 3 order tensor is D channels of matrices. <br>\n",
    "    Every channel is a matrix of $ H \\times W $ matrix. <br>\n",
    "    Index of channel 1: $(i,j,0)$ where $ 0 \\leq i < H$, $ 0 \\leq j < W$, $ D = 0$. <br><br>\n",
    "    <b>Examples:</b>\n",
    "    <ol>\n",
    "        <li><b>Scalar:</b> Order 0 tensor.</li>\n",
    "        <li><b>Vector:</b> Order 1 tensor.</li>\n",
    "        <li><b>Matrix:</b> Order 2 tensor.</li>\n",
    "        <li><b>Grayscale Image:</b> Order 2 tensor.</li>\n",
    "        <li><b>Color Image:</b> Order 3 tensor.</li>\n",
    "    </ol>\n",
    "</blockquote>\n",
    "\n",
    "#### Grayscale image breakdown\n",
    "\n",
    "![Grayscale image breakdown](https://www.researchgate.net/profile/Antonio_Neves5/publication/325569674/figure/fig3/AS:779763010506755@1562921397951/Matrix-for-certain-area-of-a-grayscale-image-17.jpg)\n",
    "<blockquote>\n",
    "    Tensor of order 2.\n",
    "    Each value in the matrix represents the pixel value.\n",
    "</blockquote>\n",
    "\n",
    "#### RGB color image breakdown\n",
    "\n",
    "![RGB image breakdown](https://miro.medium.com/max/462/1*CBY94wikMUCZMB4-Xxs-pw.png)\n",
    "<blockquote>\n",
    "    Tensor of 3 channels, for R, G, B respectively.\n",
    "    Each channel is a matrix of $ H \\times W $, that contains R or G or B values.\n",
    "</blockquote>"
   ]
  },
  {
   "cell_type": "markdown",
   "metadata": {},
   "source": [
    "<h2>Why color images?</h2>\n",
    "While working on images, we have two options.\n",
    "The first option is to use grayscale version of the image, a matrix.\n",
    "Second option is to use the color version of the image, order 3 tensor.\n",
    "We know how to handle matrices better than tensors. Then, why color image?\n",
    "Color information is very important when it comes to various tasks that we want to achieve."
   ]
  },
  {
   "cell_type": "markdown",
   "metadata": {},
   "source": [
    "<h2>Vectorisation</h2>\n",
    "Given a tensor, arrange all numbers inside the tensor into a long vector, following a pre-specified order. What we mean by order? We will see in a bit.\n",
    "<blockquote>\n",
    "    $ A = \\begin{bmatrix} 1 & 2 \\\\ 3 & 4 \\end{bmatrix} $\n",
    "    Converting the matrix into a column vector in <b>column-first order</b>, we get,\n",
    "    $ A = \\begin{bmatrix} 1 \\\\ 3 \\\\ 2 \\\\ 4 \\end{bmatrix} $ <br>\n",
    "    How we did it? First column first, then second column, and continue in column-first order.<br>\n",
    "    Converting the matrix into a column vector in <b>row-first order</b>, we get,\n",
    "    $ A = \\begin{bmatrix} 1 \\\\ 2 \\\\ 3 \\\\ 4 \\end{bmatrix} $ <br>\n",
    "</blockquote>\n",
    "\n",
    "#### Difference in row-major and column-major order\n",
    "\n",
    "![Row major Column Major](https://upload.wikimedia.org/wikipedia/commons/thumb/4/4d/Row_and_column_major_order.svg/255px-Row_and_column_major_order.svg.png)"
   ]
  }
 ],
 "metadata": {
  "kernelspec": {
   "display_name": "Python 3",
   "language": "python",
   "name": "python3"
  },
  "language_info": {
   "codemirror_mode": {
    "name": "ipython",
    "version": 3
   },
   "file_extension": ".py",
   "mimetype": "text/x-python",
   "name": "python",
   "nbconvert_exporter": "python",
   "pygments_lexer": "ipython3",
   "version": "3.7.6"
  }
 },
 "nbformat": 4,
 "nbformat_minor": 4
}
